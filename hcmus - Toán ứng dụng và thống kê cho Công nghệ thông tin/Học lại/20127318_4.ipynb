{
 "cells": [
  {
   "cell_type": "code",
   "execution_count": 2,
   "id": "6047cd6f",
   "metadata": {},
   "outputs": [],
   "source": [
    "#Thông tin sinh viên\n",
    "#   Họ và tên: Phan Trí Tài\n",
    "#   MSSV: 20127318"
   ]
  },
  {
   "cell_type": "code",
   "execution_count": 5,
   "id": "5b1949ba",
   "metadata": {},
   "outputs": [
    {
     "name": "stdout",
     "output_type": "stream",
     "text": [
      "P:\n",
      " [[ 0.70710678 -0.70710678]\n",
      " [ 0.70710678  0.70710678]]\n",
      "D:\n",
      " [[3. 0.]\n",
      " [0. 1.]]\n",
      "P^(-1):\n",
      " [[ 0.70710678  0.70710678]\n",
      " [-0.70710678  0.70710678]]\n"
     ]
    }
   ],
   "source": [
    "#Câu 1\n",
    "import numpy as np\n",
    "\n",
    "def diagonalize_matrix(A):\n",
    "    # Kiểm tra xem A có phải là ma trận vuông không\n",
    "    if A.shape[0] != A.shape[1]:\n",
    "        return \"Lỗi: Ma trận A phải là ma trận vuông.\"\n",
    "\n",
    "    # Tính các riêng trị và riêng vector\n",
    "    eigenvalues, eigenvectors = np.linalg.eig(A)\n",
    "    \n",
    "    # Sắp xếp theo thứ tự giảm dần của riêng trị\n",
    "    idx = eigenvalues.argsort()[::-1]   \n",
    "    eigenvalues = eigenvalues[idx]\n",
    "    eigenvectors = eigenvectors[:,idx]\n",
    "\n",
    "    # Ma trận P bao gồm các riêng vector\n",
    "    P = eigenvectors\n",
    "\n",
    "    # Ma trận đường chéo D bao gồm các riêng trị trên đường chéo\n",
    "    D = np.diag(eigenvalues)\n",
    "\n",
    "    # Tính P^(-1)\n",
    "    P_inv = np.linalg.inv(P)\n",
    "\n",
    "    return P, D, P_inv\n",
    "\n",
    "# Test the function\n",
    "A = np.array([[2, 1], [1, 2]])  # this is your matrix\n",
    "P, D, P_inv = diagonalize_matrix(A)\n",
    "print(\"P:\\n\", P)\n",
    "print(\"D:\\n\", D)\n",
    "print(\"P^(-1):\\n\", P_inv)\n"
   ]
  },
  {
   "cell_type": "code",
   "execution_count": 6,
   "id": "3ed03dc2",
   "metadata": {},
   "outputs": [],
   "source": [
    "#Câu 2a\n",
    "#Thư viện scipy.linalg cũng cung cấp các hàm để tính toán riêng trị và riêng vector, và nó cũng cung cấp một hàm inv() để tính ma trận nghịch đảo.\n",
    "from scipy import linalg\n",
    "\n",
    "# Tính riêng trị và riêng vector\n",
    "eigvals, eigvecs = linalg.eig(A)\n",
    "\n",
    "# Ma trận P\n",
    "P = eigvecs\n",
    "\n",
    "# Ma trận đường chéo D\n",
    "D = np.diag(eigvals)\n",
    "\n",
    "# Ma trận P^(-1)\n",
    "P_inv = linalg.inv(P)"
   ]
  },
  {
   "cell_type": "code",
   "execution_count": 7,
   "id": "54849e94",
   "metadata": {},
   "outputs": [],
   "source": [
    "#Câu 2b\n",
    "#Chéo hóa ma trận có nhiều ứng dụng trong lý thuyết ma trận và trong các ứng dụng thực tế. Một số ứng dụng cụ thể bao gồm:\n",
    "\n",
    "# - Giải phương trình vi phân và hệ phương trình vi phân: Việc chéo hóa ma trận cho phép giải các phương trình vi phân tuyến tính và hệ phương trình vi phân tuyến tính với hệ số hằng số một cách dễ dàng hơn.\n",
    "\n",
    "# - Tính toán lũy thừa của ma trận: Khi một ma trận được chéo hóa, việc tính toán lũy thừa của ma trận trở nên đơn giản hơn nhiều. Nếu A = PDP^(-1), thì A^n = PD^nP^(-1), trong đó D^n là ma trận đường chéo với các phần tử trên đường chéo là lũy thừa của các riêng trị tương ứng.\n",
    "\n",
    "# - Ứng dụng trong phân tích hệ thống và điều khiển: Trong lý thuyết hệ thống và điều khiển, việc chéo hóa ma trận cho phép dễ dàng phân tích và điều khiển hệ thống.\n",
    "\n",
    "# - Ứng dụng trong phân tích phổ (spectral analysis): Chéo hóa ma trận cho phép tách phần tử riêng, làm cho việc phân tích phổ trở nên dễ dàng hơn.\n",
    "\n",
    "# - Ứng dụng trong vật lý lượng tử: Trong lý thuyết vật lý lượng tử, chéo hóa ma trận cho phép giải các phương trình Schrödinger dễ dàng hơn."
   ]
  },
  {
   "cell_type": "code",
   "execution_count": null,
   "id": "f2158ef4",
   "metadata": {},
   "outputs": [],
   "source": []
  }
 ],
 "metadata": {
  "kernelspec": {
   "display_name": "Python 3 (ipykernel)",
   "language": "python",
   "name": "python3"
  },
  "language_info": {
   "codemirror_mode": {
    "name": "ipython",
    "version": 3
   },
   "file_extension": ".py",
   "mimetype": "text/x-python",
   "name": "python",
   "nbconvert_exporter": "python",
   "pygments_lexer": "ipython3",
   "version": "3.9.12"
  }
 },
 "nbformat": 4,
 "nbformat_minor": 5
}
