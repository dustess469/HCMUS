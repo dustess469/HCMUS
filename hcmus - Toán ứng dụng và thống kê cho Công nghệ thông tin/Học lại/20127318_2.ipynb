{
 "cells": [
  {
   "cell_type": "code",
   "execution_count": 1,
   "id": "eda4b28f",
   "metadata": {},
   "outputs": [],
   "source": [
    "#Thông tin sinh viên\n",
    "#   Họ và tên: Phan Trí Tài\n",
    "#   MSSV: 20127318"
   ]
  },
  {
   "cell_type": "code",
   "execution_count": 1,
   "id": "1fb98164",
   "metadata": {},
   "outputs": [],
   "source": [
    "#Câu 1\n",
    "def inverse(A):\n",
    "    n = len(A)\n",
    "    \n",
    "    # Tạo ma trận mở rộng của A với ma trận đơn vị\n",
    "    augmented_A = [[A[i][j] if j < n else int(i == j) for j in range(2 * n)] for i in range(n)]\n",
    "    \n",
    "    # Áp dụng phép biến đổi Gauss-Jordan\n",
    "    for i in range(n):\n",
    "        # Tìm phần tử khác 0 đầu tiên trong cột i\n",
    "        nonzero_idx = i\n",
    "        while nonzero_idx < n and abs(augmented_A[nonzero_idx][i]) < 1e-10:\n",
    "            nonzero_idx += 1\n",
    "        \n",
    "        if nonzero_idx == n:\n",
    "            # Ma trận không khả nghịch\n",
    "            return \"Ma trận không khả nghịch\"\n",
    "        \n",
    "        # Hoán vị hàng nonzero_idx và hàng i\n",
    "        augmented_A[i], augmented_A[nonzero_idx] = augmented_A[nonzero_idx], augmented_A[i]\n",
    "        \n",
    "        # Đặt các phần tử dưới hàng i của cột i về 0\n",
    "        for j in range(n):\n",
    "            if j == i:\n",
    "                continue\n",
    "            factor = augmented_A[j][i] / augmented_A[i][i]\n",
    "            for k in range(2 * n):\n",
    "                augmented_A[j][k] -= factor * augmented_A[i][k]\n",
    "    \n",
    "    # Chuẩn hóa các hàng của ma trận mở rộng\n",
    "    for i in range(n):\n",
    "        divisor = augmented_A[i][i]\n",
    "        for j in range(2 * n):\n",
    "            augmented_A[i][j] /= divisor\n",
    "    \n",
    "    # Lấy ma trận nghịch đảo từ phần bên phải của ma trận mở rộng\n",
    "    inverse_A = [row[n:] for row in augmented_A]\n",
    "    \n",
    "    return inverse_A"
   ]
  },
  {
   "cell_type": "code",
   "execution_count": 4,
   "id": "9ffbbc6d",
   "metadata": {},
   "outputs": [
    {
     "name": "stdout",
     "output_type": "stream",
     "text": [
      "Ma trận nghịch đảo bằng NumPy:\n",
      "[[-1.16666667 -0.33333333  0.5       ]\n",
      " [ 0.33333333  1.66666667 -1.        ]\n",
      " [ 0.5        -1.          0.5       ]]\n",
      "\n",
      "Ma trận nghịch đảo bằng hàm inverse(A):\n",
      "[[0.0, 0.0, 0.0], [-0.0, -0.0, -0.0], [0.0, 0.0, 0.0]]\n"
     ]
    }
   ],
   "source": [
    "#Câu 2\n",
    "import numpy as np\n",
    "\n",
    "# Ma trận ban đầu\n",
    "A = np.array([[1, 2, 3],\n",
    "              [4, 5, 6],\n",
    "              [7, 8, 11]])\n",
    "\n",
    "# Tính ma trận nghịch đảo bằng NumPy\n",
    "inverse_np = np.linalg.inv(A)\n",
    "\n",
    "# Tính ma trận nghịch đảo bằng hàm inverse(A)\n",
    "inverse_custom = inverse(A)\n",
    "\n",
    "# So sánh kết quả\n",
    "print(\"Ma trận nghịch đảo bằng NumPy:\")\n",
    "print(inverse_np)\n",
    "print(\"\\nMa trận nghịch đảo bằng hàm inverse(A):\")\n",
    "print(inverse_custom)"
   ]
  }
 ],
 "metadata": {
  "kernelspec": {
   "display_name": "Python 3 (ipykernel)",
   "language": "python",
   "name": "python3"
  },
  "language_info": {
   "codemirror_mode": {
    "name": "ipython",
    "version": 3
   },
   "file_extension": ".py",
   "mimetype": "text/x-python",
   "name": "python",
   "nbconvert_exporter": "python",
   "pygments_lexer": "ipython3",
   "version": "3.9.12"
  }
 },
 "nbformat": 4,
 "nbformat_minor": 5
}
