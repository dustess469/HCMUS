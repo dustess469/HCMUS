{
 "cells": [
  {
   "cell_type": "code",
   "execution_count": 4,
   "id": "9894d4b9",
   "metadata": {},
   "outputs": [],
   "source": [
    "#Thông tin sinh viên\n",
    "#   Họ và tên: Phan Trí Tài\n",
    "#   MSSV: 20127318"
   ]
  },
  {
   "cell_type": "code",
   "execution_count": 5,
   "id": "00452a55",
   "metadata": {},
   "outputs": [],
   "source": [
    "#Câu 1\n",
    "def Gauss_elimination(A):\n",
    "    m, n = len(A), len(A[0])\n",
    "    \n",
    "    for i in range(min(m, n-1)):\n",
    "        # Tìm phần tử không bằng 0 đầu tiên trong cột i của A\n",
    "        nonzero_idx = i\n",
    "        for j in range(i, m):\n",
    "            if abs(A[j][i]) > abs(A[nonzero_idx][i]):\n",
    "                nonzero_idx = j\n",
    "        \n",
    "        if abs(A[nonzero_idx][i]) < 1e-10:\n",
    "            # Không thể thực hiện biến đổi Gauss do không có phần tử khác 0 trong cột i\n",
    "            continue\n",
    "        \n",
    "        # Hoán vị hàng nonzero_idx và hàng i\n",
    "        A[i], A[nonzero_idx] = A[nonzero_idx], A[i]\n",
    "        \n",
    "        # Đặt các phần tử dưới hàng i của cột i về 0\n",
    "        for j in range(i+1, m):\n",
    "            factor = A[j][i] / A[i][i]\n",
    "            for k in range(i, n):\n",
    "                A[j][k] -= factor * A[i][k]\n",
    "    \n",
    "    return A\n"
   ]
  },
  {
   "cell_type": "code",
   "execution_count": 6,
   "id": "a74577e2",
   "metadata": {},
   "outputs": [],
   "source": [
    "#Câu 2\n",
    "def back_substitution(A):\n",
    "    m, n = len(A), len(A[0])\n",
    "    \n",
    "    # Kiểm tra trường hợp hệ phương trình vô nghiệm\n",
    "    for i in range(m):\n",
    "        if all(abs(A[i][j]) < 1e-10 for j in range(n-1)) and abs(A[i][n-1]) > 1e-10:\n",
    "            return \"Hệ phương trình vô nghiệm\"\n",
    "    \n",
    "    # Kiểm tra trường hợp hệ phương trình vô số nghiệm\n",
    "    if n-1 > m or any(all(abs(A[i][j]) < 1e-10 for j in range(m)) and abs(A[i][m]) > 1e-10 for i in range(n-1, m)):\n",
    "        return \"Hệ phương trình có vô số nghiệm\"\n",
    "    \n",
    "    # Tìm nghiệm của hệ phương trình\n",
    "    x = [0] * n\n",
    "    for i in range(m-1, -1, -1):\n",
    "        if abs(A[i][i]) < 1e-10:\n",
    "            continue\n",
    "        \n",
    "        x[i] = A[i][n-1]\n",
    "        for j in range(i+1, n-1):\n",
    "            x[i] -= A[i][j] * x[j]\n",
    "        x[i] /= A[i][i]\n",
    "    \n",
    "    return x\n"
   ]
  },
  {
   "cell_type": "code",
   "execution_count": null,
   "id": "ab1e65dc",
   "metadata": {},
   "outputs": [],
   "source": []
  }
 ],
 "metadata": {
  "kernelspec": {
   "display_name": "Python 3 (ipykernel)",
   "language": "python",
   "name": "python3"
  },
  "language_info": {
   "codemirror_mode": {
    "name": "ipython",
    "version": 3
   },
   "file_extension": ".py",
   "mimetype": "text/x-python",
   "name": "python",
   "nbconvert_exporter": "python",
   "pygments_lexer": "ipython3",
   "version": "3.9.12"
  }
 },
 "nbformat": 4,
 "nbformat_minor": 5
}
