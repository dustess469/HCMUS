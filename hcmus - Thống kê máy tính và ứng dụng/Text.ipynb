{
 "cells": [
  {
   "cell_type": "code",
   "execution_count": 2,
   "id": "59196eaa",
   "metadata": {},
   "outputs": [],
   "source": [
    "import random\n",
    "import matplotlib.pyplot as plt\n",
    "import numpy as np"
   ]
  },
  {
   "cell_type": "code",
   "execution_count": 26,
   "id": "6395a7cf",
   "metadata": {},
   "outputs": [
    {
     "data": {
      "text/plain": [
       "array([0.32105, 0.4352 , 0.24375])"
      ]
     },
     "execution_count": 26,
     "metadata": {},
     "output_type": "execute_result"
    }
   ],
   "source": [
    "# Cái này đéo có tác dụng gì\n",
    "X0 = np.array([0.25,0.2,0.55])\n",
    "P = np.array([[0.7,0.1,0.2],\n",
    "             [0.2,0.8,0.2],\n",
    "             [0.1,0.1,0.6]]) \n",
    "for i in range(3):\n",
    "    X0 = np.dot(P,X0)\n",
    "X0\n"
   ]
  },
  {
   "cell_type": "code",
   "execution_count": 29,
   "id": "1f1158bf",
   "metadata": {},
   "outputs": [
    {
     "data": {
      "text/plain": [
       "array([0.20334201, 0.34280961, 0.22692419, 0.22692419])"
      ]
     },
     "execution_count": 29,
     "metadata": {},
     "output_type": "execute_result"
    }
   ],
   "source": [
    "# tính câu 2a\n",
    "X0 = np.array([1,0,0,0])\n",
    "P = np.array([[0.5,0.25,0,0],\n",
    "             [0.5,0.25,1/3,1/3],\n",
    "             [0,0.25,1/3,1/3],\n",
    "             [0,0.25,1/3,1/3]])\n",
    "for i in range(5):\n",
    "    X0 = np.dot(P,X0)\n",
    "X0"
   ]
  },
  {
   "cell_type": "code",
   "execution_count": 3,
   "id": "14201b5d",
   "metadata": {},
   "outputs": [],
   "source": [
    "# giả lập câu 2\n",
    "def move(cur_pos):\n",
    "    p = np.random.uniform(0,1)\n",
    "    if(cur_pos == 1):\n",
    "        if(p < 0.5):\n",
    "            return 1\n",
    "        else:\n",
    "            return 2\n",
    "    elif(cur_pos == 2):\n",
    "        if(p < 0.25):\n",
    "            return 1\n",
    "        elif(p < 0.5):\n",
    "            return 2\n",
    "        elif(p < 0.75):\n",
    "            return 3\n",
    "        else:\n",
    "            return 4\n",
    "    elif(cur_pos == 3):\n",
    "        if(p < 1/3):\n",
    "            return 2\n",
    "        elif(p < 2/3):\n",
    "            return 3\n",
    "        else:\n",
    "            return 4\n",
    "    else:\n",
    "        if(p < 1/3):\n",
    "            return 2\n",
    "        elif(p < 2/3):\n",
    "            return 3\n",
    "        else:\n",
    "            return 4"
   ]
  },
  {
   "cell_type": "code",
   "execution_count": 9,
   "id": "99febb36",
   "metadata": {},
   "outputs": [
    {
     "data": {
      "text/plain": [
       "array([[1.    , 0.1667],\n",
       "       [2.    , 0.3364],\n",
       "       [3.    , 0.2525],\n",
       "       [4.    , 0.2444]])"
      ]
     },
     "execution_count": 9,
     "metadata": {},
     "output_type": "execute_result"
    }
   ],
   "source": [
    "# Câu 2a\n",
    "def tan_xuat2AB(moves,N):\n",
    "    last_pos = []\n",
    "    for i in range(N):\n",
    "        cur_pos = 1\n",
    "        for j in range(moves):\n",
    "            cur_pos = move(cur_pos)\n",
    "        last_pos.append(cur_pos)\n",
    "        \n",
    "    y = np.bincount(last_pos)\n",
    "    ii = np.nonzero(y)[0]\n",
    "    freq = np.vstack((ii,y[ii])).T\n",
    "    freq = freq.astype('float64')\n",
    "    \n",
    "    for i in range(np.shape(freq)[0]):\n",
    "        freq[i][1] = freq[i][1] / N\n",
    "    return freq\n",
    "\n",
    "tan_xuat2AB(5,10000)"
   ]
  },
  {
   "cell_type": "code",
   "execution_count": null,
   "id": "ec6c209f",
   "metadata": {},
   "outputs": [],
   "source": [
    "# Câu 2b\n",
    "tan_xuat2AB(5,10000)"
   ]
  },
  {
   "cell_type": "code",
   "execution_count": 6,
   "id": "de467104",
   "metadata": {},
   "outputs": [
    {
     "data": {
      "text/plain": [
       "array([[1.    , 0.152 ],\n",
       "       [2.    , 0.3411],\n",
       "       [3.    , 0.2537],\n",
       "       [4.    , 0.2532]])"
      ]
     },
     "execution_count": 6,
     "metadata": {},
     "output_type": "execute_result"
    }
   ],
   "source": [
    "# Câu 2c\n",
    "def new_move(cur_pos):\n",
    "    p = np.random.uniform(0,1)\n",
    "    if(cur_pos == 1):\n",
    "        return 2\n",
    "    elif(cur_pos == 2):\n",
    "        if(p < 1/3):\n",
    "            return 1\n",
    "        elif(p < 2/3):\n",
    "            return 3\n",
    "        else:\n",
    "            return 4\n",
    "    elif(cur_pos == 3):\n",
    "        if(p < 1/2):\n",
    "            return 2\n",
    "        else:\n",
    "            return 4\n",
    "    else:\n",
    "        if(p < 1/2):\n",
    "            return 2\n",
    "        else:\n",
    "            return 3\n",
    "\n",
    "def tan_xuat2C(moves,N):\n",
    "    last_pos = []\n",
    "    list_pos = []\n",
    "    for i in range(N):\n",
    "        cur_pos = 1\n",
    "        repeat = 1\n",
    "        past_pos = 1\n",
    "        list_temp = []\n",
    "        for j in range(moves):\n",
    "            cur_pos = move(cur_pos)\n",
    "            list_temp.append(cur_pos)\n",
    "            if(cur_pos == past_pos):\n",
    "                repeat += 1\n",
    "            else:\n",
    "                repeat = 0\n",
    "            past_pos = cur_pos\n",
    "            \n",
    "            if(repeat == 3):\n",
    "                repeat = 0\n",
    "                j += 1\n",
    "                cur_pos = new_move(cur_pos)\n",
    "                list_temp.append(cur_pos)\n",
    "        last_pos.append(cur_pos)\n",
    "        list_pos.append(list_temp)\n",
    "        \n",
    "    #print(list_pos)\n",
    "    y = np.bincount(last_pos)\n",
    "    ii = np.nonzero(y)[0]\n",
    "    freq = np.vstack((ii,y[ii])).T\n",
    "    freq = freq.astype('float64')\n",
    "    \n",
    "    for i in range(np.shape(freq)[0]):\n",
    "        freq[i][1] = freq[i][1] / N\n",
    "    return freq\n",
    "\n",
    "tan_xuat2C(100,10000)"
   ]
  },
  {
   "cell_type": "code",
   "execution_count": 8,
   "id": "93fae9ea",
   "metadata": {},
   "outputs": [],
   "source": [
    "# Câu 3\n",
    "def len_xe():\n",
    "    p = np.random.uniform(0,1)\n",
    "    if(p < 0.5):\n",
    "        return 0\n",
    "    elif(p < 0.9):\n",
    "        return 1\n",
    "    else:\n",
    "        return 2\n",
    "\n",
    "def xuong_xe():\n",
    "    p = np.random.uniform(0,1)\n",
    "    if(p < 0.2):\n",
    "        return 0\n",
    "    else:\n",
    "        return 1"
   ]
  },
  {
   "cell_type": "code",
   "execution_count": 10,
   "id": "170c1919",
   "metadata": {},
   "outputs": [
    {
     "data": {
      "text/plain": [
       "0.249795"
      ]
     },
     "execution_count": 10,
     "metadata": {},
     "output_type": "execute_result"
    }
   ],
   "source": [
    "# Câu 3a\n",
    "def tan_xuat_3A(N):\n",
    "    f_ans = []\n",
    "    for i in range(N):\n",
    "        khach_len_xe = 0\n",
    "        for j in range(2):\n",
    "            khach_len_xe += len_xe()\n",
    "        if(khach_len_xe == 0):\n",
    "            f_ans.append(1)\n",
    "        else:\n",
    "            f_ans.append(0)\n",
    "    return sum(f_ans)/N\n",
    "\n",
    "tan_xuat_3A(100000)"
   ]
  },
  {
   "cell_type": "code",
   "execution_count": 11,
   "id": "ec2cdc0a",
   "metadata": {},
   "outputs": [
    {
     "data": {
      "text/plain": [
       "0.12573"
      ]
     },
     "execution_count": 11,
     "metadata": {},
     "output_type": "execute_result"
    }
   ],
   "source": [
    "# Cau 3b\n",
    "def tan_xuat_3B(N):\n",
    "    f_ans = []\n",
    "    for i in range(N):\n",
    "        khach_len_xe = 0\n",
    "        for j in range(3):\n",
    "            khach_len_xe += len_xe()\n",
    "        if(khach_len_xe == 0):\n",
    "            f_ans.append(1)\n",
    "        else:\n",
    "            f_ans.append(0)\n",
    "    return sum(f_ans)/N\n",
    "\n",
    "tan_xuat_3B(100000)"
   ]
  },
  {
   "cell_type": "code",
   "execution_count": 12,
   "id": "84f199eb",
   "metadata": {},
   "outputs": [
    {
     "data": {
      "text/plain": [
       "0.156"
      ]
     },
     "execution_count": 12,
     "metadata": {},
     "output_type": "execute_result"
    }
   ],
   "source": [
    "# Cau 3c\n",
    "def tan_xuat_3C(N):\n",
    "    f_ans = []\n",
    "    for i in range(N):\n",
    "        khach_len_xe = 0\n",
    "        for j in range(5):\n",
    "            khach_len_xe += len_xe()\n",
    "        if(khach_len_xe >= 5):\n",
    "            f_ans.append(1)\n",
    "        else:\n",
    "            f_ans.append(0)\n",
    "    return sum(f_ans)/N\n",
    "\n",
    "tan_xuat_3C(100000)"
   ]
  },
  {
   "cell_type": "code",
   "execution_count": null,
   "id": "a5912034",
   "metadata": {},
   "outputs": [],
   "source": [
    "# Câu 3d"
   ]
  },
  {
   "cell_type": "code",
   "execution_count": 25,
   "id": "da6cd804",
   "metadata": {},
   "outputs": [
    {
     "data": {
      "text/plain": [
       "0.14314"
      ]
     },
     "execution_count": 25,
     "metadata": {},
     "output_type": "execute_result"
    }
   ],
   "source": [
    "# Câu 3e\n",
    "# Đéo biết đúng ko\n",
    "def tan_xuat_3E(N):\n",
    "    E_ans = []\n",
    "    for i in range(N):\n",
    "        khach_tren_xe = 0\n",
    "        for j in range(2):\n",
    "            khach_tren_xe += len_xe()\n",
    "            for k in range(khach_tren_xe):\n",
    "                khach_tren_xe -= xuong_xe()\n",
    "        E_ans.append(khach_tren_xe)\n",
    "    #print(E_ans)\n",
    "    return sum(E_ans)/N\n",
    "\n",
    "tan_xuat_3E(100000)"
   ]
  },
  {
   "cell_type": "code",
   "execution_count": 24,
   "id": "9e09a73c",
   "metadata": {},
   "outputs": [
    {
     "data": {
      "text/plain": [
       "0.14974"
      ]
     },
     "execution_count": 24,
     "metadata": {},
     "output_type": "execute_result"
    }
   ],
   "source": [
    "# Câu 3f\n",
    "# Đéo biết đúng ko\n",
    "def tan_xuat_3F(N):\n",
    "    E_ans = []\n",
    "    for i in range(N):\n",
    "        khach_tren_xe = 0\n",
    "        for j in range(3):\n",
    "            khach_tren_xe += len_xe()\n",
    "            for k in range(khach_tren_xe):\n",
    "                khach_tren_xe -= xuong_xe()\n",
    "        E_ans.append(khach_tren_xe)\n",
    "    #print(E_ans)\n",
    "    return sum(E_ans)/N\n",
    "\n",
    "tan_xuat_3F(100000)"
   ]
  }
 ],
 "metadata": {
  "kernelspec": {
   "display_name": "Python 3 (ipykernel)",
   "language": "python",
   "name": "python3"
  },
  "language_info": {
   "codemirror_mode": {
    "name": "ipython",
    "version": 3
   },
   "file_extension": ".py",
   "mimetype": "text/x-python",
   "name": "python",
   "nbconvert_exporter": "python",
   "pygments_lexer": "ipython3",
   "version": "3.9.12"
  }
 },
 "nbformat": 4,
 "nbformat_minor": 5
}
