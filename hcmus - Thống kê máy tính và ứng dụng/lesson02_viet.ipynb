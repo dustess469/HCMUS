{
 "cells": [
  {
   "cell_type": "code",
   "execution_count": 1,
   "metadata": {},
   "outputs": [],
   "source": [
    "import random\n",
    "import numpy as np\n",
    "import matplotlib.pyplot as plt\n",
    "import seaborn as sns\n",
    "import scipy.stats as stats"
   ]
  },
  {
   "cell_type": "markdown",
   "metadata": {},
   "source": [
    "# Bài 2 - Ôn tập Biến ngẫu nhiên và Giới thiệu Thống kê Tính toán (Review of Random Variables and Introduction to Computational Statistics)\n",
    "\n",
    "**THỐNG KÊ MÁY TÍNH VÀ ỨNG DỤNG (Computational Statistics and Applications)**\n",
    "\n",
    "*(Vũ Quốc Hoàng, FIT - HCMUS, vqhoang@fit.hcmus.edu.vn)*"
   ]
  },
  {
   "cell_type": "markdown",
   "metadata": {},
   "source": [
    "## Chủ đề\n",
    "\n",
    "1. Ôn tập một số thư viện Python: Numpy, seaborn và SciPy Statistics\n",
    "2. Ôn tập biến ngẫu nhiên rời rạc\n",
    "3. Ôn tập biến ngẫu nhiên liên tục\n",
    "4. Xấp xỉ kì vọng của biến ngẫu nhiên bằng phương pháp mô phỏng\n",
    "5. Xấp xỉ phân phối của biến ngẫu nhiên bằng phương pháp mô phỏng"
   ]
  },
  {
   "cell_type": "markdown",
   "metadata": {},
   "source": [
    "## Ôn tập một số thư viện Python\n",
    "\n",
    "* [Python cơ bản](https://github.com/vqhBook/python)\n",
    "* [NumPy quickstart](https://numpy.org/doc/stable/user/quickstart.html)\n",
    "* [seaborn User guide and tutorial](https://seaborn.pydata.org/tutorial.html#)\n",
    "* [SciPy Statistics (scipy.stats)](https://docs.scipy.org/doc/scipy/tutorial/stats.html)"
   ]
  },
  {
   "cell_type": "markdown",
   "metadata": {},
   "source": [
    "## Ôn tập biến ngẫu nhiên rời rạc"
   ]
  },
  {
   "cell_type": "markdown",
   "metadata": {},
   "source": [
    "### Các khái niệm cơ bản"
   ]
  },
  {
   "cell_type": "markdown",
   "metadata": {},
   "source": [
    "Hàm $X: \\Omega \\rightarrow A$, gắn mỗi kết quả $\\omega \\in \\Omega$ một giá trị $X(\\omega) \\in A$ được gọi là **biến ngẫu nhiên** (random variable) với $A$ là **tập/miền giá trị** (thường là tập con của $\\mathbb{R}$).    "
   ]
  },
  {
   "cell_type": "markdown",
   "metadata": {},
   "source": [
    "Cho biến ngẫu nhiên $X$, tập các xác suất $\\{P(X \\in C): C \\subset \\mathbb{R}\\}$ xác định một độ đo xác suất trên $\\mathbb{R}$ và được gọi là **phân phối** (distribution) của $X$."
   ]
  },
  {
   "cell_type": "markdown",
   "metadata": {},
   "source": [
    "$X$ được gọi là **biến ngẫu nhiên rời rạc** (discrete random variable) nếu tập giá trị của nó là **rời rạc** (**hữu hạn** (finite) hoặc **vô hạn đếm được** (countably infinite))."
   ]
  },
  {
   "cell_type": "markdown",
   "metadata": {},
   "source": [
    "Cho $X$ là biến ngẫu nhiên rời rạc, **hàm xác suất** (probability function, probability mass function) của $X$ là hàm $f: \\mathbb{R} \\rightarrow \\mathbb{R}$, được xác định bởi\n",
    "$$\n",
    "f(x) = f_X(x) = P(X = x), x \\in \\mathbb{R}.\n",
    "$$\n",
    "\n",
    "Hàm xác suất xác định phân phối của biến ngẫu nhiên rời rạc\n",
    "$$\n",
    "P(X \\in C) = \\sum_{x \\in C} f(x), C \\subset \\mathbb{R}.\n",
    "$$"
   ]
  },
  {
   "cell_type": "markdown",
   "metadata": {},
   "source": [
    "Hai biến ngẫu nhiên $X, Y$ được gọi là **độc lập** (independent) nếu với mọi $A, B \\subset \\mathbb{R}$ ta có\n",
    "$$\n",
    "P\\left((X \\in A) \\cap (Y \\in B)\\right) = P(X \\in A)P(Y \\in B).\n",
    "$$\n",
    "\n",
    "**Mệnh đề** Hai biến ngẫu nhiên rời rạc $X, Y$ độc lập khi và chỉ khi \n",
    "$$\n",
    "P\\left((X = x) \\cap (Y = y)\\right) = P(X = x)P(Y = y)\n",
    "$$\n",
    "với mọi $x, y \\in \\mathbb{R}$."
   ]
  },
  {
   "cell_type": "markdown",
   "metadata": {},
   "source": [
    "Cho biến ngẫu nhiên rời rạc $X$ với hàm xác suất $f$, **kì vọng** (mean) của $X$, kí hiệu $E(X)$, là số thực được tính bởi (\"nếu tính được\")\n",
    "$$\n",
    "E(X) = \\mu_X = \\mu = \\sum_x xP(X = x) = \\sum_x xf(x).\n",
    "$$"
   ]
  },
  {
   "cell_type": "markdown",
   "metadata": {},
   "source": [
    "Cho biến ngẫu nhiên rời rạc $X$ với hàm xác suất $f$ và kì vọng $\\mu = E(X)$, **phương sai** (variance) của $X$, kí hiệu $Var(X)$, là số thực được tính bởi (\"nếu tính được\")\n",
    "$$\n",
    "Var(X) = \\sigma^2_X = \\sigma^2 = E\\left((X - \\mu)^2\\right) = \\sum_x (x - \\mu)^2 P(X = x) = \\sum_x  (x - \\mu)^2f(x).\n",
    "$$\n",
    "\n",
    "$\\sigma = \\sigma_X = \\sqrt{\\sigma_X^2} = \\sqrt{Var(X)}$ là **độ lệch chuẩn** (standard deviation) của $X$.    "
   ]
  },
  {
   "cell_type": "markdown",
   "metadata": {},
   "source": [
    "Biến ngẫu nhiên rời rạc $X$ được gọi là có **phân phối Bernoulli** (Bernoulli distribution) với tham số $p\\; (0 \\le p \\le 1)$, kí hiệu $X \\sim \\text{Bernoulli}(p)$, nếu $X$ có tập giá trị là $\\{0, 1\\}$ và\n",
    "$$\n",
    "f(x) = P(X = x) = \n",
    "    \\begin{cases}\n",
    "        p & \\text{nếu } x = 1, \\\\\n",
    "        1 - p & \\text{nếu } x = 0.\n",
    "    \\end{cases}\n",
    "$$\n",
    "\n",
    "Khi đó, $X$ có kì vọng $E(X) = p$ và phương sai $Var(X) = p(1 - p)$.    "
   ]
  },
  {
   "cell_type": "markdown",
   "metadata": {},
   "source": [
    "Biến ngẫu nhiên rời rạc $X$ được gọi là có **phân phối nhị thức** (binomial distribution) với tham số $n \\;(n \\in \\mathbb{N}), p\\; (0 \\le p \\le 1)$, kí hiệu $X \\sim \\mathcal{B}(n, p)$, nếu $X$ có tập giá trị là $\\{0, 1, ..., n\\}$ và\n",
    "$$\n",
    "f(x) = P(X = x) = C_n^x p^x(1 - p)^{n-x}, x \\in \\{0, 1, ..., n\\}.\n",
    "$$\n",
    "\n",
    "Khi đó, $X$ có kì vọng $E(X) = np$ và phương sai $Var(X) = np(1 - p)$.    "
   ]
  },
  {
   "cell_type": "markdown",
   "metadata": {},
   "source": [
    "Biến ngẫu nhiên rời rạc $X$ được gọi là có **phân phối hình học** (geometric distribution) với tham số $p\\; (0 < p \\le 1)$, kí hiệu $X \\sim \\text{Geometric}(p)$, nếu $X$ có tập giá trị là $\\{1, 2, ...\\}$ và\n",
    "$$\n",
    "f(x) = P(X = x) = (1 - p)^{x-1}p, x \\in \\{1, 2, ...\\}.\n",
    "$$\n",
    "    \n",
    "Khi đó, $X$ có kì vọng $E(X) = \\frac{1}{p}$ và phương sai $Var(X) = \\frac{1-p}{p^2}$."
   ]
  },
  {
   "cell_type": "markdown",
   "metadata": {},
   "source": [
    "Biến ngẫu nhiên rời rạc $X$ được gọi là có **phân phối Poisson** (Poisson distribution) với tham số $\\lambda\\; (\\lambda > 0)$, kí hiệu $X \\sim \\text{Poisson}(\\lambda)$, nếu $X$ có tập giá trị là $\\{0, 1, 2, ...\\}$ và\n",
    "$$\n",
    "f(x) = P(X = x) = e^{-\\lambda}\\frac{\\lambda^x}{x!}, x \\in \\{0, 1, 2, ...\\}.\n",
    "$$\n",
    "\n",
    "Khi đó, $X$ có kì vọng $E(X) = \\lambda$ và phương sai $Var(X) = \\lambda$."
   ]
  },
  {
   "cell_type": "markdown",
   "metadata": {},
   "source": [
    "Để xấp xỉ kì vọng $E(X)$ của một biến ngẫu nhiên $X$ liên quan đến thí nghiệm $T$, ta có thể dùng phương pháp thống kê như sau\n",
    "\n",
    "> Thực hiện lặp lại $N$ lần (độc lập) thí nghiệm $T$, ghi nhận các giá trị mà $X$ nhận $x_1, x_2, ..., x_N$ (còn gọi là mẫu dữ liệu - sample), và tính trung bình mẫu\n",
    "$$\\bar{x} = \\frac{x_1 + x_2 + ... + x_N}{N}.$$ \n",
    "\n",
    "> Khi $N$ đủ lớn, ta có $\\bar{x} \\approx E(X)$. \n",
    "\n",
    "> Việc thực hiện lặp lại nhiều lần thí nghiệm $T$ có thể được **mô phỏng** (simulate) trên máy tính. (Chẳng hạn dùng thư viện tạo số ngẫu nhiên [random](https://docs.python.org/3/library/random.html).)"
   ]
  },
  {
   "cell_type": "markdown",
   "metadata": {},
   "source": [
    "### Bài toán thu thập phiếu thưởng"
   ]
  },
  {
   "cell_type": "markdown",
   "metadata": {},
   "source": [
    "**Bài toán thu thập phiếu thưởng** (coupon collector's problem). Một cửa hàng phát hành $n$ loại phiếu thưởng khác nhau. Mỗi lần khách mua hàng sẽ được cửa hàng phát một tờ phiếu thưởng ngẫu nhiên trong $n$ loại. Khi khách thu thập được đủ $n$ loại phiếu thưởng thì được cửa hàng tặng quà.\n",
    "\n",
    "*Hỏi:* khách cần mua hàng bao nhiêu lần từ cửa hàng để được nhận quà?"
   ]
  },
  {
   "cell_type": "markdown",
   "metadata": {},
   "source": [
    "**Tính toán chính xác**\n",
    "\n",
    "Gọi $X$ là số lần khách cần mua hàng để được nhận quà, tức là số lần cần mua hàng từ đầu cho đến khi thu thập *vừa đủ* $n$ loại phiếu thưởng.\n",
    "    \n",
    "Gọi $X_i$ là số lần cần mua hàng từ lúc *vừa đã có* $i - 1$ loại phiếu thưởng cho đến khi thu thập thêm được một loại mới để có *vừa đúng* $i$ loại phiếu thưởng ($i = 1, 2, ..., n$).\n",
    "    \n",
    "Ta có $X = \\sum_{i=1}^n X_i$ và $X_i$ có phân phối hình học với tham số\n",
    "$$\n",
    "p_i = \\frac{n - (i - 1)}{n} = \\frac{n - i + 1}{n} \\; (i=1, 2, ..., n).\n",
    "$$\n",
    "\n",
    "Từ đó ta có\n",
    "$$\n",
    "    E(X) = E\\left(\\sum_{i=1}^n X_i\\right) = \\sum_{i=1}^n E(X_i) = \\sum_{i=1}^n \\frac{n}{n-i+1} = n\\sum_{i=1}^n \\frac{1}{i} = nH_n,\n",
    "$$\n",
    "với $H_n = \\sum_{i=1}^n \\frac{1}{i}$ được gọi là **số điều hòa** (harmonic number) thứ $n$."
   ]
  },
  {
   "cell_type": "code",
   "execution_count": 2,
   "metadata": {},
   "outputs": [
    {
     "data": {
      "text/plain": [
       "29.289682539682538"
      ]
     },
     "execution_count": 2,
     "metadata": {},
     "output_type": "execute_result"
    }
   ],
   "source": [
    "def H(n):\n",
    "    return sum(1/i for i in range(1, n + 1))\n",
    "\n",
    "def mean_num_buy_to_win(n):\n",
    "    return n*H(n)\n",
    "\n",
    "mean_num_buy_to_win(10)"
   ]
  },
  {
   "cell_type": "markdown",
   "metadata": {},
   "source": [
    "**Mô phỏng**"
   ]
  },
  {
   "cell_type": "code",
   "execution_count": 3,
   "metadata": {},
   "outputs": [
    {
     "data": {
      "text/plain": [
       "29.132"
      ]
     },
     "execution_count": 3,
     "metadata": {},
     "output_type": "execute_result"
    }
   ],
   "source": [
    "def num_buy_to_win(n):\n",
    "    coupons = []\n",
    "    while len(set(coupons)) < n:\n",
    "        coupons.append(random.randint(1, n))\n",
    "    return len(coupons)\n",
    "\n",
    "def average(n, N, X):\n",
    "    m = sum(X(n) for _ in range (N))\n",
    "    return m/N\n",
    "\n",
    "average(10, 1000, num_buy_to_win)"
   ]
  },
  {
   "cell_type": "code",
   "execution_count": 4,
   "metadata": {},
   "outputs": [
    {
     "data": {
      "image/png": "[encoded data removed]",
      "text/plain": [
       "<Figure size 432x288 with 1 Axes>"
      ]
     },
     "metadata": {
      "needs_background": "light"
     },
     "output_type": "display_data"
    }
   ],
   "source": [
    "N = 1000\n",
    "n_list = [5*i for i in range(1, 21)]\n",
    "E_list = [mean_num_buy_to_win(n) for n in n_list]\n",
    "A_list = [average(n, N, num_buy_to_win) for n in n_list]\n",
    "\n",
    "plt.plot(n_list, E_list, label=\"Closed-form\")\n",
    "plt.plot(n_list, A_list, label=f\"Simulation (N = {N})\")\n",
    "plt.legend()\n",
    "plt.xlabel(\"n\")\n",
    "plt.ylabel(\"Mean - Average\")\n",
    "plt.title(\"Coupon collector's problem\")\n",
    "#plt.savefig(\"coupon.pdf\", bbox_inches=\"tight\")\n",
    "plt.show()"
   ]
  },
  {
   "cell_type": "markdown",
   "metadata": {},
   "source": [
    "## Ôn tập biến ngẫu nhiên liên tục"
   ]
  },
  {
   "cell_type": "markdown",
   "metadata": {},
   "source": [
    "### Các khái niệm cơ bản"
   ]
  },
  {
   "cell_type": "markdown",
   "metadata": {},
   "source": [
    "$X$ được gọi là **biến ngẫu liên tục** (continuous random variable) nếu có hàm số không âm $f: \\mathbb{R} \\rightarrow \\mathbb{R}$ sao cho với mọi khoảng $[a, b]$ trong $\\mathbb{R}$ ta có\n",
    "$$\n",
    "P(a \\le X \\le b) = \\int_a^b f(x)dx.\n",
    "$$\n",
    "\n",
    "$f$ được gọi là **hàm mật độ xác suất** (probability denstity function) của $X$.\n",
    "\n",
    "Hàm mật độ xác suất có tính chất: $f(x) \\ge 0, \\forall x \\in \\mathbb{R}$ và $\\int_{-\\infty}^{\\infty} f(x)dx = 1$."
   ]
  },
  {
   "cell_type": "markdown",
   "metadata": {},
   "source": [
    "Hàm mật độ xác suất xác định phân phối của biến ngẫu nhiên liên tục\n",
    "$$\n",
    "P(X \\in C) = \\int_C f(x)dx, C \\subset \\mathbb{R}.\n",
    "$$      "
   ]
  },
  {
   "cell_type": "markdown",
   "metadata": {},
   "source": [
    "**Hàm phân phối (tích lũy)** (distribution function, cumulative distribution function) của một biến ngẫu nhiên $X$ là hàm số $F: \\mathbb{R} \\rightarrow \\mathbb{R}$ được xác định bởi\n",
    "$$\n",
    "F(x) = P(X \\le x) = \n",
    "\\begin{cases}\n",
    "    \\sum_{t \\le x} f(t) & \\text{nếu $X$ rời rạc với hàm xác suất $f$},\\\\\n",
    "    \\int_{-\\infty}^x f(t)dt & \\text{nếu $X$ liên tục với hàm mật độ xác suất $f$}.\n",
    "\\end{cases}\n",
    "$$\n",
    "\n",
    "$F$ xác định phân phối của $X$."
   ]
  },
  {
   "cell_type": "markdown",
   "metadata": {},
   "source": [
    "Cho biến ngẫu nhiên liên tục $X$ với hàm mật độ xác suất $f$\n",
    "\n",
    "> **Kì vọng** (mean) của $X$ được tính bởi\n",
    "  $$\n",
    "  \\mu = E(X) = \\int_{-\\infty}^{\\infty} xf(x)dx,\n",
    "  $$\n",
    "> **Phương sai** (variance) của $X$ được tính bởi\n",
    "  $$\n",
    "  \\sigma^2 = Var(X) = E\\left((X - \\mu)^2\\right) = \\int_{-\\infty}^{\\infty} (x - \\mu)^2f(x)dx,\n",
    "  $$\n",
    "> Với hàm số $r: \\mathbb{R} \\rightarrow \\mathbb{R}$ và $Y = r(X)$\n",
    "  $$\n",
    "  E(Y) = E(r(X)) = \\int_{-\\infty}^{\\infty} r(x)f(x)dx.\n",
    "  $$"
   ]
  },
  {
   "cell_type": "markdown",
   "metadata": {},
   "source": [
    "Biến ngẫu nhiên liên tục $X$ được gọi là có **phân phối đều** (uniform distribution) trên $[a, b]$ với $a < b$, kí hiệu $X \\sim \\mathcal{U}(a, b)$, nếu $X$ có tập giá trị là $[a, b]$ và\n",
    "$$\n",
    "f(x) = \n",
    "    \\begin{cases}\n",
    "        \\frac{1}{b - a} & \\text{nếu } a \\le x \\le b, \\\\\n",
    "        0 & \\text{khác}.\n",
    "    \\end{cases}\n",
    "$$\n",
    "    \n",
    "Khi đó, $X$ có kì vọng $E(X) = \\frac{a+b}{2}$ và phương sai $Var(X) = \\frac{(b-a)^2}{12}$."
   ]
  },
  {
   "cell_type": "markdown",
   "metadata": {},
   "source": [
    "Biến ngẫu nhiên liên tục $X$ được gọi là có **phân phối mũ** (exponential distribution) với tham số $\\lambda \\; (\\lambda > 0)$, kí hiệu $X \\sim \\text{Exp}(\\lambda)$, nếu $X$ có tập giá trị là $[0, \\infty)$ và\n",
    "$$\n",
    "f(x) = \n",
    "    \\begin{cases}\n",
    "        \\lambda e^{-\\lambda x} & \\text{nếu } x \\ge 0, \\\\\n",
    "        0 & \\text{khác}.\n",
    "    \\end{cases}\n",
    "$$\n",
    "\n",
    "Khi đó, $X$ có kì vọng $E(X) = \\frac{1}{\\lambda}$, phương sai $Var(X) = \\frac{1}{\\lambda^2}$."
   ]
  },
  {
   "cell_type": "markdown",
   "metadata": {},
   "source": [
    "Biến ngẫu nhiên liên tục $X$ được gọi là có **phân phối chuẩn** (normal distribution) với trung bình $\\mu$ và phương sai $\\sigma^2 \\; (\\sigma > 0)$, kí hiệu $X \\sim \\mathcal{N}(\\mu, \\sigma^2)$, nếu $X$ có hàm mật độ xác suất\n",
    "$$\n",
    "f(x) = \\frac{1}{\\sigma \\sqrt{2\\pi}}e^{-\\frac{(x - \\mu)^2}{2\\sigma^2}}, x \\in \\mathbb{R}.\n",
    "$$\n",
    "Khi đó, $X$ có kì vọng $E(X) = \\mu$ và phương sai $Var(X) = \\sigma^2$.\n",
    "\n",
    "Trường hợp $Z \\sim \\mathcal{N}(0, 1)$ thì $Z$ được gọi là có **phân phối chuẩn tắc** (standard normal distribution)."
   ]
  },
  {
   "cell_type": "markdown",
   "metadata": {},
   "source": [
    "**Dạng mạnh của luật số lớn** (strong law of large numbers). Cho $X_1, X_2, ...$ iid với kỳ vọng $\\mu$, ta có\n",
    "\n",
    "$$\n",
    "\\lim_{n \\rightarrow \\infty}\\frac{1}{n}\\sum_{i=1}^n X_i = \\mu \\;(\\text{với xác suất } 1).\n",
    "$$"
   ]
  },
  {
   "cell_type": "markdown",
   "metadata": {},
   "source": [
    "**Định lý giới hạn trung tâm** (central limit theorem). Cho $X_1, X_2, ...$ là các biến ngẫu nhiên độc lập với cùng kỳ vọng $\\mu$ và phương sai $\\sigma^2 > 0$ hữu hạn, ta có\n",
    "\n",
    "$$\n",
    "\\frac{1}{\\sqrt{n}}\\sum_{i=1}^n \\frac{X_i - \\mu}{\\sigma} \\xrightarrow[]{\\;d\\;} \\mathcal{N}(0, 1).\n",
    "$$"
   ]
  },
  {
   "cell_type": "markdown",
   "metadata": {},
   "source": [
    "### Luật Zipf"
   ]
  },
  {
   "cell_type": "markdown",
   "metadata": {},
   "source": [
    "**Luật Zipf** (Zipf's law) trong ngôn ngữ học định lượng: **tần số** (frequency) của từ tỉ lệ nghịch với **hạng** (rank) của nó (trong nhiều kho ngữ liệu)\n",
    "$$\n",
    "f(r) = c \\times \\frac{1}{r^s} \\text{ hay } \\log f(r) = \\log c - s\\log r\n",
    "$$\n",
    "trong đó hằng số $c$ là hệ số tỉ lệ, hằng số $s \\approx 1$ là số mũ, $f(r)$ là tần số của từ có hạng $r \\; (r = 1, 2, ...)$."
   ]
  },
  {
   "cell_type": "markdown",
   "metadata": {},
   "source": [
    "**Luật Zipf-Mandelbrot** mở rộng luật Zipf\n",
    "$$\n",
    "f(r) = c \\times \\frac{1}{(r + q)^s} \\text{ hay } \\log f(r) = \\log c - s\\log (r + q).\n",
    "$$"
   ]
  },
  {
   "cell_type": "code",
   "execution_count": 5,
   "metadata": {},
   "outputs": [],
   "source": [
    "# Zipf–Mandelbrot law: f = c(r + q)^(-s)\n",
    "# log(f) = log(c) - s log(r + q)\n",
    "def fit_ZM(freq, rank, q_list):\n",
    "    log_freq = np.log10(freq)\n",
    "    msqe = np.zeros(len(q_list))\n",
    "    opt_msqe, opt_q, opt_intercept, opt_slope = float(\"Inf\"), None, None, None\n",
    "    for i, q in enumerate(q_list):\n",
    "        log_rank = np.log10(rank + q)\n",
    "        res = stats.linregress(log_rank, log_freq)\n",
    "        msqe[i] = np.sum((log_freq - (res.intercept + res.slope*log_rank))**2)\n",
    "        if msqe[i] < opt_msqe:\n",
    "            opt_msqe, opt_q, opt_intercept, opt_slope = msqe[i], q, res.intercept, res.slope\n",
    "    \n",
    "    plt.plot(q_list, msqe)\n",
    "    plt.show()\n",
    "    \n",
    "    return opt_q, opt_intercept, opt_slope"
   ]
  },
  {
   "cell_type": "markdown",
   "metadata": {},
   "source": [
    "### Truyện Kiều - Nguyễn Du"
   ]
  },
  {
   "cell_type": "code",
   "execution_count": 6,
   "metadata": {},
   "outputs": [
    {
     "name": "stdout",
     "output_type": "stream",
     "text": [
      "Number of sentences: 3254\n",
      "Number of words: 22778\n",
      "Number of unique words: 2383\n"
     ]
    },
    {
     "data": {
      "text/html": [
       "<div>\n",
       "<style scoped>\n",
       "    .dataframe tbody tr th:only-of-type {\n",
       "        vertical-align: middle;\n",
       "    }\n",
       "\n",
       "    .dataframe tbody tr th {\n",
       "        vertical-align: top;\n",
       "    }\n",
       "\n",
       "    .dataframe thead th {\n",
       "        text-align: right;\n",
       "    }\n",
       "</style>\n",
       "<table border=\"1\" class=\"dataframe\">\n",
       "  <thead>\n",
       "    <tr style=\"text-align: right;\">\n",
       "      <th></th>\n",
       "      <th>Rank</th>\n",
       "      <th>Word</th>\n",
       "      <th>Frequency</th>\n",
       "    </tr>\n",
       "  </thead>\n",
       "  <tbody>\n",
       "    <tr>\n",
       "      <th>0</th>\n",
       "      <td>1</td>\n",
       "      <td>một</td>\n",
       "      <td>321</td>\n",
       "    </tr>\n",
       "    <tr>\n",
       "      <th>1</th>\n",
       "      <td>2</td>\n",
       "      <td>đã</td>\n",
       "      <td>263</td>\n",
       "    </tr>\n",
       "    <tr>\n",
       "      <th>2</th>\n",
       "      <td>3</td>\n",
       "      <td>người</td>\n",
       "      <td>223</td>\n",
       "    </tr>\n",
       "    <tr>\n",
       "      <th>3</th>\n",
       "      <td>4</td>\n",
       "      <td>nàng</td>\n",
       "      <td>200</td>\n",
       "    </tr>\n",
       "    <tr>\n",
       "      <th>4</th>\n",
       "      <td>5</td>\n",
       "      <td>lòng</td>\n",
       "      <td>174</td>\n",
       "    </tr>\n",
       "    <tr>\n",
       "      <th>5</th>\n",
       "      <td>6</td>\n",
       "      <td>lời</td>\n",
       "      <td>172</td>\n",
       "    </tr>\n",
       "    <tr>\n",
       "      <th>6</th>\n",
       "      <td>7</td>\n",
       "      <td>là</td>\n",
       "      <td>170</td>\n",
       "    </tr>\n",
       "    <tr>\n",
       "      <th>7</th>\n",
       "      <td>8</td>\n",
       "      <td>cho</td>\n",
       "      <td>170</td>\n",
       "    </tr>\n",
       "    <tr>\n",
       "      <th>8</th>\n",
       "      <td>9</td>\n",
       "      <td>cũng</td>\n",
       "      <td>169</td>\n",
       "    </tr>\n",
       "    <tr>\n",
       "      <th>9</th>\n",
       "      <td>10</td>\n",
       "      <td>có</td>\n",
       "      <td>161</td>\n",
       "    </tr>\n",
       "    <tr>\n",
       "      <th>10</th>\n",
       "      <td>11</td>\n",
       "      <td>rằng</td>\n",
       "      <td>159</td>\n",
       "    </tr>\n",
       "    <tr>\n",
       "      <th>11</th>\n",
       "      <td>12</td>\n",
       "      <td>lại</td>\n",
       "      <td>148</td>\n",
       "    </tr>\n",
       "    <tr>\n",
       "      <th>12</th>\n",
       "      <td>13</td>\n",
       "      <td>ra</td>\n",
       "      <td>148</td>\n",
       "    </tr>\n",
       "    <tr>\n",
       "      <th>13</th>\n",
       "      <td>14</td>\n",
       "      <td>hoa</td>\n",
       "      <td>136</td>\n",
       "    </tr>\n",
       "    <tr>\n",
       "      <th>14</th>\n",
       "      <td>15</td>\n",
       "      <td>tình</td>\n",
       "      <td>127</td>\n",
       "    </tr>\n",
       "    <tr>\n",
       "      <th>15</th>\n",
       "      <td>16</td>\n",
       "      <td>còn</td>\n",
       "      <td>119</td>\n",
       "    </tr>\n",
       "    <tr>\n",
       "      <th>16</th>\n",
       "      <td>17</td>\n",
       "      <td>mới</td>\n",
       "      <td>119</td>\n",
       "    </tr>\n",
       "    <tr>\n",
       "      <th>17</th>\n",
       "      <td>18</td>\n",
       "      <td>ai</td>\n",
       "      <td>116</td>\n",
       "    </tr>\n",
       "    <tr>\n",
       "      <th>18</th>\n",
       "      <td>19</td>\n",
       "      <td>đâu</td>\n",
       "      <td>116</td>\n",
       "    </tr>\n",
       "    <tr>\n",
       "      <th>19</th>\n",
       "      <td>20</td>\n",
       "      <td>chẳng</td>\n",
       "      <td>111</td>\n",
       "    </tr>\n",
       "  </tbody>\n",
       "</table>\n",
       "</div>"
      ],
      "text/plain": [
       "    Rank   Word  Frequency\n",
       "0      1    một        321\n",
       "1      2     đã        263\n",
       "2      3  người        223\n",
       "3      4   nàng        200\n",
       "4      5   lòng        174\n",
       "5      6    lời        172\n",
       "6      7     là        170\n",
       "7      8    cho        170\n",
       "8      9   cũng        169\n",
       "9     10     có        161\n",
       "10    11   rằng        159\n",
       "11    12    lại        148\n",
       "12    13     ra        148\n",
       "13    14    hoa        136\n",
       "14    15   tình        127\n",
       "15    16    còn        119\n",
       "16    17    mới        119\n",
       "17    18     ai        116\n",
       "18    19    đâu        116\n",
       "19    20  chẳng        111"
      ]
     },
     "execution_count": 6,
     "metadata": {},
     "output_type": "execute_result"
    }
   ],
   "source": [
    "import io\n",
    "import collections\n",
    "\n",
    "file = io.open(\"TruyenKieu.txt\", mode=\"r\", encoding=\"utf-8\")\n",
    "\n",
    "text = file.read()\n",
    "print(\"Number of sentences:\", text.count(\"\\n\") + 1)\n",
    "text = text.split()\n",
    "print(\"Number of words:\", len(text))\n",
    "counter = collections.Counter(text)\n",
    "print(\"Number of unique words:\", len(counter))\n",
    "\n",
    "most_common_words = counter.most_common(1000)\n",
    "freq = np.array([f for _, f in most_common_words])\n",
    "word = np.array([w for w, _ in most_common_words])\n",
    "rank = np.arange(1, len(freq) + 1)\n",
    "\n",
    "import pandas\n",
    "\n",
    "df = pandas.DataFrame({\"Rank\": rank, \"Word\": word, \"Frequency\": freq})\n",
    "df[:20]"
   ]
  },
  {
   "cell_type": "markdown",
   "metadata": {},
   "source": [
    "**Zipf law**"
   ]
  },
  {
   "cell_type": "code",
   "execution_count": 7,
   "metadata": {},
   "outputs": [
    {
     "data": {
      "image/png": "[encoded data removed]",
      "text/plain": [
       "<Figure size 432x288 with 1 Axes>"
      ]
     },
     "metadata": {
      "needs_background": "light"
     },
     "output_type": "display_data"
    },
    {
     "name": "stdout",
     "output_type": "stream",
     "text": [
      "39.0 4.0465781988335845 -1.1139514647740218\n"
     ]
    }
   ],
   "source": [
    "q_list = np.linspace(0, 500, 501)\n",
    "opt_q, opt_intercept, opt_slope = fit_ZM(freq, rank, q_list)\n",
    "print(opt_q, opt_intercept, opt_slope)"
   ]
  },
  {
   "cell_type": "code",
   "execution_count": 8,
   "metadata": {},
   "outputs": [
    {
     "data": {
      "image/png": "[encoded data removed]",
      "text/plain": [
       "<Figure size 432x288 with 1 Axes>"
      ]
     },
     "metadata": {
      "needs_background": "light"
     },
     "output_type": "display_data"
    }
   ],
   "source": [
    "res = stats.linregress(np.log10(rank), np.log10(freq))\n",
    "\n",
    "zipf_freq = (freq[0]/rank[0])/rank\n",
    "Z_reg_freq = np.power(10, res.slope*np.log10(rank) + res.intercept)\n",
    "ZM_reg_freq = np.power(10, opt_slope*np.log10(rank + opt_q) + opt_intercept)\n",
    "\n",
    "plt.loglog(rank, freq, \".\", label=\"Truyện Kiều\")\n",
    "plt.loglog(rank, zipf_freq, label=\"Zipf, s = 1\")\n",
    "plt.loglog(rank, Z_reg_freq, label=f\"Zipf, s = {-res.slope:0.2f}\")\n",
    "plt.loglog(rank, ZM_reg_freq, label=f\"Zipf–Mandelbrot, s = {-opt_slope:0.2f}, q = {opt_q:0.1f}\")\n",
    "\n",
    "plt.xlabel(\"Rank (log)\")\n",
    "plt.ylabel(\"Frequency (log)\")\n",
    "plt.legend()\n",
    "#plt.savefig(\"TK_Zipf_law.pdf\", bbox_inches=\"tight\")\n",
    "plt.show()"
   ]
  },
  {
   "cell_type": "markdown",
   "metadata": {},
   "source": [
    "### \"Mô hình chú khỉ\""
   ]
  },
  {
   "cell_type": "markdown",
   "metadata": {},
   "source": [
    "**Mô hình**: có một chú khỉ ngồi gõ bàn phím từ bộ kí tự có $M$ chữ cái và phím cách. Từ là dãy kí tự phân cách bởi phím cách, chẳng hạn dãy phím gõ `a_mdf__pwell_` tạo ra 3 từ là `a`, `mdf`, `pwell`. Giả sử chú khỉ chưa đi học (nên gõ đại) và rất rảnh rỗi (nên gõ được văn bản rất dài). Trên văn bản mà chú khỉ tạo ra ta cũng thấy luật Zipf giữa tần số với hạng của từ!"
   ]
  },
  {
   "cell_type": "code",
   "execution_count": 9,
   "metadata": {},
   "outputs": [],
   "source": [
    "def monkey(N, k, alphabet, space=\" \"):\n",
    "    alphabet += space\n",
    "    words = []\n",
    "    curWord = \"\"\n",
    "    while len(words) < N:\n",
    "        letter = random.choice(alphabet)\n",
    "        if letter == space:\n",
    "            if curWord == \"\":\n",
    "                continue\n",
    "            words.append(curWord)\n",
    "            curWord = \"\"\n",
    "        else:\n",
    "            curWord += letter\n",
    "    word_freqs = collections.Counter(words).most_common()\n",
    "    freq = np.array([f for _, f in word_freqs])\n",
    "    rank = np.array([int(r) for r in np.logspace(0, np.log10(len(freq)), num=k)])\n",
    "            \n",
    "    return rank, freq[rank - 1]"
   ]
  },
  {
   "cell_type": "code",
   "execution_count": 10,
   "metadata": {},
   "outputs": [],
   "source": [
    "import string\n",
    "\n",
    "M = 5 # alphabet size\n",
    "N = 500_000 # number of word for simulation\n",
    "rank, freq = monkey(N, 1000, alphabet=string.ascii_lowercase[:M])"
   ]
  },
  {
   "cell_type": "code",
   "execution_count": 11,
   "metadata": {},
   "outputs": [
    {
     "data": {
      "image/png": "[encoded data removed]",
      "text/plain": [
       "<Figure size 432x288 with 1 Axes>"
      ]
     },
     "metadata": {
      "needs_background": "light"
     },
     "output_type": "display_data"
    },
    {
     "name": "stdout",
     "output_type": "stream",
     "text": [
      "0.0 4.4093208784580575 -0.95517170491953\n"
     ]
    }
   ],
   "source": [
    "q_list = np.linspace(0, 500, 501)\n",
    "opt_q, opt_intercept, opt_slope = fit_ZM(freq, rank, q_list)\n",
    "print(opt_q, opt_intercept, opt_slope)"
   ]
  },
  {
   "cell_type": "code",
   "execution_count": 12,
   "metadata": {},
   "outputs": [
    {
     "data": {
      "image/png": "[encoded data removed]",
      "text/plain": [
       "<Figure size 432x288 with 1 Axes>"
      ]
     },
     "metadata": {
      "needs_background": "light"
     },
     "output_type": "display_data"
    }
   ],
   "source": [
    "res = stats.linregress(np.log10(rank), np.log10(freq))\n",
    "\n",
    "zipf_freq = (freq[0]/rank[0])/rank\n",
    "Z_reg_freq = np.power(10, res.slope*np.log10(rank) + res.intercept)\n",
    "ZM_reg_freq = np.power(10, opt_slope*np.log10(rank + opt_q) + opt_intercept)\n",
    "\n",
    "plt.loglog(rank, freq, \".\", label=\"Monkey model\")\n",
    "plt.loglog(rank, zipf_freq, label=\"Zipf, s = 1\")\n",
    "plt.loglog(rank, Z_reg_freq, label=f\"Zipf, s = {-res.slope:0.2f}\")\n",
    "plt.loglog(rank, ZM_reg_freq, label=f\"Zipf–Mandelbrot, s = {-opt_slope:0.2f}, q = {opt_q:0.1f}\")\n",
    "\n",
    "plt.xlabel(\"Rank (log)\")\n",
    "plt.ylabel(\"Frequency (log)\")\n",
    "plt.legend()\n",
    "#plt.savefig(\"Monkey_model.pdf\", bbox_inches=\"tight\")\n",
    "plt.show()"
   ]
  },
  {
   "cell_type": "markdown",
   "metadata": {},
   "source": [
    "## Xấp xỉ phân phối của biến ngẫu nhiên bằng phương pháp mô phỏng"
   ]
  },
  {
   "cell_type": "markdown",
   "metadata": {},
   "source": [
    "Để xấp xỉ hàm khối lượng xác suất (probability mass function) $f_X$ của một biến ngẫu nhiên rời rạc $X$ liên quan đến thí nghiệm $T$, ta có thể dùng phương pháp thống kê như sau\n",
    "\n",
    "> Thực hiện lặp lại $N$ lần (độc lập) thí nghiệm $T$ và tính các tần suất $p_x$ của biến cố \"$X$ nhận giá trị $x$\". \n",
    "\n",
    "> Khi $N$ đủ lớn, ta có $p_x \\approx P(X = x) = f_X(x)$. \n",
    "\n",
    "> Việc thực hiện lặp lại nhiều lần thí nghiệm $T$ có thể được **mô phỏng** (simulate) trên máy tính. (Chẳng hạn dùng thư viện tạo số ngẫu nhiên [numpy.random](https://numpy.org/doc/stable/reference/random/index.html).)"
   ]
  },
  {
   "cell_type": "markdown",
   "metadata": {},
   "source": [
    "Để xấp xỉ hàm mật độ xác suất $f_X$ của một biến ngẫu nhiên liên tục $X$ liên quan đến thí nghiệm $T$, ta có thể dùng phương pháp thống kê như sau\n",
    "\n",
    "> Thực hiện lặp lại $N$ lần (độc lập) thí nghiệm $T$, ghi nhận các giá trị mà $X$ nhận $x_1, x_2, ..., x_N$ (còn gọi là **mẫu dữ liệu** - sample).\n",
    "\n",
    "> Khi $N$ đủ lớn, ta có thể dùng **histogram** hoặc **ước lượng mật độ nhân** (kernel density estimation, KDE) trên mẫu để xấp xỉ $f_X$. (Chẳng hạn dùng các hàm trong thư viện [Scipy Statistics](https://docs.scipy.org/doc/scipy/tutorial/stats.html) hay [Matplotlib](https://matplotlib.org/) hay [seaborn](https://seaborn.pydata.org/).)\n",
    "\n",
    "> Việc thực hiện lặp lại nhiều lần thí nghiệm $T$ có thể được **mô phỏng** (simulate) trên máy tính. (Chẳng hạn dùng thư viện tạo số ngẫu nhiên [numpy.random](https://numpy.org/doc/stable/reference/random/index.html).)"
   ]
  },
  {
   "cell_type": "markdown",
   "metadata": {},
   "source": [
    "### Ví dụ 1"
   ]
  },
  {
   "cell_type": "markdown",
   "metadata": {},
   "source": [
    "**Bài toán.** Chọn ngẫu nhiên một điểm trên một thanh có chiều dài 1 đơn vị, cắt tại điểm đó thành hai đoạn và giữ lại đoạn dài hơn. Tính kì vọng và tìm phân phối của chiều dài đoạn giữ lại."
   ]
  },
  {
   "cell_type": "markdown",
   "metadata": {},
   "source": [
    "Gọi $X$ là vị trí ngẫu nhiên chọn trên thanh thì $X \\sim \\mathcal{U}(0, 1)$. Do đó $X$ là biến ngẫu nhiên liên tục với hàm mật độ xác suất\n",
    "$$\n",
    "f_X(x) = \n",
    "    \\begin{cases}\n",
    "        1 & \\text{nếu } 0 \\le x \\le 1, \\\\\n",
    "        0 & \\text{khác}.\n",
    "    \\end{cases}\n",
    "$$\n",
    "\n",
    "Gọi $Y$ là chiều dài của đoạn được giữ lại (tức là đoạn dài hơn) thì $Y = \\max \\{X, 1 - X\\}$.\n",
    "\n",
    "Ta có kì vọng của chiều dài đoạn giữ lại\n",
    "\\begin{align*}\n",
    "    E(Y) &= E\\left(\\max\\{X, 1 - X\\}\\right) = \\int_{-\\infty}^{\\infty} \\max\\{x, 1 - x\\}f_X(x)dx = \\int_0^1 \\max\\{x, 1 - x\\}dx \\\\\n",
    "    &= \\int_0^{1/2} \\max\\{x, 1 - x\\}dx + \\int_{1/2}^1 \\max\\{x, 1 - x\\}dx = \\int_0^{1/2} (1 - x)dx + \\int_{1/2}^1 xdx \\\\\n",
    "    &= \\frac{3}{4}.\n",
    "\\end{align*}\n",
    "\n",
    "Ta tìm hàm phân phối (tích lũy) của biến ngẫu nhiên $Y = \\max\\{X, 1 - X\\}$\n",
    "    $$\n",
    "    F_Y(y) = P(Y \\le y) = P(\\max\\{X, 1 - X\\} \\le y), y \\in \\mathbb{R}.\n",
    "    $$\n",
    "\n",
    "Xét các trường hợp của $y$\n",
    "\n",
    "1. $y < 1/2$: $\\left(\\max\\{X, 1 - X\\} \\le y\\right) = \\varnothing$ vì $0 \\le X \\le 1$ nên $1/2 \\le \\max\\{X, 1 - X\\}$,\n",
    "    $$\n",
    "    P\\left(\\max\\{X, 1 - X\\} \\le y\\right) = P(\\varnothing) = 0.\n",
    "    $$\n",
    "\n",
    "2. $1/2 \\le y \\le 1$: $\\left(\\max\\{X, 1 - X\\} \\le y\\right) = \\left(1 - y \\le X \\le y\\right)$,\n",
    "    $$\n",
    "    P\\left(\\max\\{X, 1 - X\\} \\le y\\right) = P\\left(1 - y \\le X \\le y\\right) = \\int_{1-y}^yf_X(x)dx =\\int_{1-y}^ydy = 2y.\n",
    "    $$\n",
    "3. $y > 1$: $\\left(\\max\\{X, 1 - X\\} \\le y\\right) = \\Omega$ vì $0 \\le X \\le 1$ nên $\\max\\{X, 1 - X\\} \\le 1$,\n",
    "    $$\n",
    "    P\\left(\\max\\{X, 1 - X\\} \\le y\\right) = P(\\Omega) = 1.\n",
    "    $$\n",
    "    \n",
    "Từ đó ta có\n",
    "$$\n",
    "F_Y(y) = \n",
    "    \\begin{cases}\n",
    "        0 & \\text{nếu } y < 1/2, \\\\\n",
    "        2y & \\text{nếu } 1/2 \\le y \\le 1, \\\\\n",
    "        1 & \\text{nếu } 1 < y.\n",
    "    \\end{cases}\n",
    "$$\n",
    "\n",
    "Lấy đạo hàm của hàm phân phối, ta có hàm mật độ xác suất của $Y$ là\n",
    "$$\n",
    "f_Y(y) = F_Y'(y) = \\begin{cases}\n",
    "        2 & \\text{nếu } 1/2 \\le x \\le 1, \\\\\n",
    "        0 & \\text{khác}.\n",
    "    \\end{cases}\n",
    "$$\n",
    "\n",
    "Như vậy $Y$ có phân phối đều trên đoạn $[1/2, 1]$, tức là $Y \\sim \\mathcal{U}(1/2, 1)$.\n",
    "\n",
    "Lưu ý, từ phân phối của $Y$, $Y \\sim \\mathcal{U}(1/2, 1)$, ta cũng có $E(Y) = \\frac{1/2+1}{2} = \\frac{3}{4}$."
   ]
  },
  {
   "cell_type": "code",
   "execution_count": 13,
   "metadata": {},
   "outputs": [
    {
     "data": {
      "text/plain": [
       "0.7499196965559302"
      ]
     },
     "execution_count": 13,
     "metadata": {},
     "output_type": "execute_result"
    }
   ],
   "source": [
    "def greater_len(N):\n",
    "    X = np.random.uniform(size=N)\n",
    "    Y = np.maximum(X, 1 - X)    \n",
    "    return Y\n",
    "\n",
    "np.mean(greater_len(10000))"
   ]
  },
  {
   "cell_type": "code",
   "execution_count": 14,
   "metadata": {},
   "outputs": [
    {
     "data": {
      "image/png": "[encoded data removed]",
      "text/plain": [
       "<Figure size 432x288 with 1 Axes>"
      ]
     },
     "metadata": {
      "needs_background": "light"
     },
     "output_type": "display_data"
    }
   ],
   "source": [
    "N = 10000\n",
    "\n",
    "plt.hist(greater_len(N), density=True, edgecolor=\"black\")\n",
    "plt.ylabel(\"Density\")\n",
    "plt.title(f\"Approximate $f_Y$ by histogram (N = {N})\")\n",
    "#plt.savefig(\"uniform_hist.pdf\", bbox_inches=\"tight\")\n",
    "plt.show()"
   ]
  },
  {
   "cell_type": "markdown",
   "metadata": {},
   "source": [
    "### Ví dụ 2"
   ]
  },
  {
   "cell_type": "markdown",
   "metadata": {},
   "source": [
    "**Bài toán.** Cho $X_1, X_2, ..., X_n$ là $n$ biến ngẫu nhiên độc lập và cùng phân phối chuẩn $\\mathcal{N}(\\mu, \\sigma^2)$. Đặt\n",
    "$$\n",
    "\\bar{X} = \\frac{1}{n}\\sum_{i=1}^n X_i \\;\\;\\; \\text{và} \\;\\;\\; S^2 = \\frac{1}{n-1}\\sum_{i=1}^n (X_i - \\bar{X})^2.\n",
    "$$\n",
    "\n",
    "($X_1, ..., X_n$ thường được gọi là một mẫu ngẫu nhiên cỡ $n$, $\\bar{X}$ là trung bình mẫu và $S^2$ là phương sai mẫu.)\n",
    "\n",
    "Tìm phân phối của các biến ngẫu nhiên $\\frac{\\bar{X} - \\mu}{\\sigma/\\sqrt{n}}$ và $\\frac{\\bar{X} - \\mu}{S/\\sqrt{n}}$."
   ]
  },
  {
   "cell_type": "markdown",
   "metadata": {},
   "source": [
    "*Trả lời:* $\\frac{\\bar{X} - \\mu}{\\sigma/\\sqrt{n}}$ có phân phối chuẩn tắc $\\mathcal{N}(0, 1)$ và $\\frac{\\bar{X} - \\mu}{S/\\sqrt{n}}$ có **phân phối Student**| (Student's t-distribution) với $n-1$ bậc tự do.\n",
    "    \n",
    "Xem thêm phân phối Student tại [Wikipedia](https://en.wikipedia.org/wiki/Student\\%27s_t-distribution)."
   ]
  },
  {
   "cell_type": "code",
   "execution_count": 15,
   "metadata": {},
   "outputs": [],
   "source": [
    "def sample(mu, sigma, n, N):\n",
    "    X = np.random.normal(mu, sigma, size=(N, n))\n",
    "    X_bar = np.mean(X, axis=1)\n",
    "    S2 = np.var(X, axis=1, ddof=1)\n",
    "    return X_bar, S2"
   ]
  },
  {
   "cell_type": "code",
   "execution_count": 16,
   "metadata": {},
   "outputs": [
    {
     "data": {
      "image/png": "[encoded data removed]",
      "text/plain": [
       "<Figure size 432x288 with 1 Axes>"
      ]
     },
     "metadata": {
      "needs_background": "light"
     },
     "output_type": "display_data"
    }
   ],
   "source": [
    "mu, sigma = 2, 0.1\n",
    "n = 4\n",
    "N = 10000\n",
    "\n",
    "X_bar, S2 = sample(mu, sigma, n, N)\n",
    "\n",
    "x_min, x_max = -4, 4\n",
    "x = np.linspace(x_min, x_max, 100)\n",
    "\n",
    "plt.plot(x, stats.norm.pdf(x), label=r\"$\\mathcal{N}$(0, 1)\")\n",
    "sns.kdeplot((X_bar - mu)/(sigma/np.sqrt(n)), label=r\"$\\frac{\\bar{X} - \\mu}{\\sigma/\\sqrt{n}}$\", clip=(x_min, x_max))\n",
    "plt.plot(x, stats.t.pdf(x, n - 1), label=f\"$t_{n - 1}$\")\n",
    "sns.kdeplot((X_bar - mu)/(np.sqrt(S2)/np.sqrt(n)), label=r\"$\\frac{\\bar{X} - \\mu}{S/\\sqrt{n}}$\", clip=(x_min, x_max))\n",
    "\n",
    "plt.ylabel(\"Density\")\n",
    "plt.title(f\"Approximate distribution using KDE ($\\mu$ = {mu}, $\\sigma$ = {sigma}, n = {n}, N = {N})\")\n",
    "plt.legend()\n",
    "plt.xlim(x_min, x_max)\n",
    "#plt.savefig(\"Student_kde.pdf\", bbox_inches=\"tight\")\n",
    "plt.show()"
   ]
  },
  {
   "cell_type": "markdown",
   "metadata": {},
   "source": [
    "## Tài liệu\n",
    "\n",
    "1. **Chapter 3-5**: Morris H. DeGroot, Mark J. Schervish. *Probability and Statistics*. Addison-Wesley, 2012.\n",
    "\n",
    "2. **Chapter 3-5**: H. Pishro-Nik, \"Introduction to probability, statistics, and random processes\", available at https://www.probabilitycourse.com, Kappa Research LLC, 2014."
   ]
  }
 ],
 "metadata": {
  "hide_input": false,
  "kernelspec": {
   "display_name": "Python 3.7.6 64-bit ('base': conda)",
   "language": "python",
   "name": "python37664bitbaseconda0b8c7c8e841a463980d22293ed402c2a"
  },
  "language_info": {
   "codemirror_mode": {
    "name": "ipython",
    "version": 3
   },
   "file_extension": ".py",
   "mimetype": "text/x-python",
   "name": "python",
   "nbconvert_exporter": "python",
   "pygments_lexer": "ipython3",
   "version": "3.7.11"
  }
 },
 "nbformat": 4,
 "nbformat_minor": 4
}
