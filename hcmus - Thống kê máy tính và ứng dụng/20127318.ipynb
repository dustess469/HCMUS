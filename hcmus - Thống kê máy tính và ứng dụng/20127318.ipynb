{
 "cells": [
  {
   "cell_type": "code",
   "execution_count": 1,
   "metadata": {},
   "outputs": [],
   "source": [
    "import random\n",
    "import matplotlib.pyplot as plt\n",
    "import numpy as np"
   ]
  },
  {
   "cell_type": "code",
   "execution_count": 2,
   "metadata": {},
   "outputs": [
    {
     "name": "stdout",
     "output_type": "stream",
     "text": [
      "0.8052\n"
     ]
    }
   ],
   "source": [
    "#Cau 1a\n",
    "#P(A,B liên lạc được) = P(R2 tốt và (R3 tốt hoặc R4 tốt))\n",
    "R1 = 0\n",
    "\n",
    "N = 20000\n",
    "\n",
    "A_B = 0\n",
    "\n",
    "for i in range(N):\n",
    "    R2 = np.random.choice([0,1], p=[0.15,0.85])\n",
    "    R3 = np.random.choice([0,1], p=[0.2,0.8])\n",
    "    R4 = np.random.choice([0,1], p=[0.25,0.75])\n",
    "\n",
    "    if R2 == 1:\n",
    "        if R3 == 1 or R4 == 1:\n",
    "            A_B += 1\n",
    "    \n",
    "print(A_B/N)"
   ]
  },
  {
   "cell_type": "code",
   "execution_count": 3,
   "metadata": {},
   "outputs": [
    {
     "name": "stdout",
     "output_type": "stream",
     "text": [
      "0.98165\n"
     ]
    }
   ],
   "source": [
    "#Cau 1b\n",
    "#Xét 2 TH: R1 hỏng / R1 không hỏng\n",
    "N = 20000 \n",
    "\n",
    "A_B = 0\n",
    "\n",
    "for i in range(N):\n",
    "    R1 = np.random.choice([0,1], p=[0.1,0.9])\n",
    "    R2 = np.random.choice([0,1], p=[0.15,0.85])\n",
    "    R3 = np.random.choice([0,1], p=[0.2,0.8])\n",
    "    R4 = np.random.choice([0,1], p=[0.25,0.75])\n",
    "    if R1 == 1:\n",
    "        A_B += 1\n",
    "    elif R2 == 1:\n",
    "        if R3 == 1 or R4 == 1:\n",
    "            A_B += 1\n",
    "            \n",
    "print(A_B/N)"
   ]
  },
  {
   "cell_type": "code",
   "execution_count": 4,
   "metadata": {},
   "outputs": [
    {
     "data": {
      "text/plain": [
       "4"
      ]
     },
     "execution_count": 4,
     "metadata": {},
     "output_type": "execute_result"
    }
   ],
   "source": [
    "#Cau 2a\n",
    "transition_matrix = {1: [0.5, 0.5, 0, 0],\n",
    "                     2: [0.25, 0.25, 0.25, 0.25],\n",
    "                     3: [0, 1/3, 1/3, 1/3],\n",
    "                     4: [0, 1/3, 1/3, 1/3]}\n",
    "\n",
    "def move(current_state, Days):\n",
    "    for _ in range(Days):\n",
    "        current_state = np.random.choice([1, 2, 3, 4], p=transition_matrix[current_state])\n",
    "    return current_state\n",
    "\n",
    "move(1, 5)"
   ]
  },
  {
   "cell_type": "code",
   "execution_count": 5,
   "metadata": {},
   "outputs": [
    {
     "name": "stdout",
     "output_type": "stream",
     "text": [
      "0.20177\n"
     ]
    }
   ],
   "source": [
    "N = 100000\n",
    "\n",
    "freq = 0\n",
    "\n",
    "for _ in range(N):\n",
    "    if move(1, 5) == 1:\n",
    "        freq += 1\n",
    "\n",
    "print(freq/N)"
   ]
  },
  {
   "cell_type": "code",
   "execution_count": 6,
   "metadata": {},
   "outputs": [
    {
     "name": "stdout",
     "output_type": "stream",
     "text": [
      "[0.1714 0.3334 0.2513 0.2439]\n"
     ]
    }
   ],
   "source": [
    "#Cau 2b\n",
    "N = 10000\n",
    "\n",
    "Days = 70\n",
    "\n",
    "def simulate_2b(N, Days):\n",
    "    status = np.zeros(4)\n",
    "    for _ in range(N):\n",
    "        current_state = np.random.choice([1,2,3,4], p=[0.25, 0.25, 0.25, 0.25])\n",
    "        end_room = move(current_state, Days)\n",
    "        if end_room == 1:\n",
    "            status[0] += 1\n",
    "        if end_room == 2:\n",
    "            status[1] += 1\n",
    "        if end_room == 3:\n",
    "            status[2] += 1\n",
    "        if end_room == 4:\n",
    "            status[3] += 1\n",
    "    print(status/N)\n",
    "\n",
    "simulate_2b(N, Days)"
   ]
  },
  {
   "cell_type": "code",
   "execution_count": 7,
   "metadata": {},
   "outputs": [],
   "source": [
    "#Cau 2c\n",
    "transition_matrix = np.array([\n",
    "    [1/2, 1/2, 0, 0],\n",
    "    [1/4, 1/4, 1/4, 1/4],\n",
    "    [0, 1/3, 1/3, 1/3],\n",
    "    [0, 1/3, 1/3, 1/3]\n",
    "])"
   ]
  },
  {
   "cell_type": "code",
   "execution_count": 9,
   "metadata": {},
   "outputs": [
    {
     "name": "stdout",
     "output_type": "stream",
     "text": [
      "0.16638\n"
     ]
    }
   ],
   "source": [
    "def move_2c(current_state, Days):\n",
    "    trace_room = []\n",
    "    trace_room.append(current_state)\n",
    "    for _ in range (Days):\n",
    "        current_state = np.random.choice([1, 2, 3, 4], p=transition_matrix[current_state - 1])\n",
    "        if len(trace_room) <= 2:\n",
    "            trace_room.append(current_state)\n",
    "        else:\n",
    "            id = len(trace_room) - 1\n",
    "            if (current_state != trace_room[id]) or (current_state != trace_room[id - 1]) or (current_state != trace_room[id - 2]):\n",
    "                trace_room.append(current_state)\n",
    "            else:\n",
    "                if current_state == 1:   current_state = 2\n",
    "                elif current_state == 2: current_state = np.random.choice([1, 3, 4], p=[1/3, 1/3, 1/3])\n",
    "                elif current_state == 3: current_state = np.random.choice([2, 4], p=[0.5, 0.5])\n",
    "                elif current_state == 4: current_state = np.random.choice([2, 3], p=[0.5, 0.5])\n",
    "                trace_room.append(current_state)\n",
    "    return trace_room[-1]\n",
    "\n",
    "N = 50000\n",
    "\n",
    "def simulate_2c(N):\n",
    "    freq = 0\n",
    "    for _ in range(N):\n",
    "        if move_2c(1, 5) == 1:\n",
    "            freq += 1\n",
    "    print(freq/N) \n",
    "    \n",
    "simulate_2c(N)"
   ]
  },
  {
   "cell_type": "code",
   "execution_count": 11,
   "metadata": {},
   "outputs": [
    {
     "name": "stdout",
     "output_type": "stream",
     "text": [
      "[0.1589 0.3447 0.2482 0.2482]\n"
     ]
    }
   ],
   "source": [
    "#Cau 2d\n",
    "N = 10000 \n",
    "\n",
    "Days = 70\n",
    "\n",
    "def simulate_2d(N, Days):\n",
    "    status = np.zeros(4)\n",
    "    for _ in range(N):\n",
    "        current_state = np.random.choice([1,2,3,4], p=[0.25, 0.25, 0.25, 0.25])\n",
    "        end_room = move_2c(current_state, Days)\n",
    "        if end_room == 1:\n",
    "            status[0] += 1\n",
    "        if end_room == 2:\n",
    "            status[1] += 1\n",
    "        if end_room == 3:\n",
    "            status[2] += 1\n",
    "        if end_room == 4:\n",
    "            status[3] += 1\n",
    "    print(status/N)\n",
    "    \n",
    "simulate_2d(N, Days)"
   ]
  },
  {
   "cell_type": "code",
   "execution_count": 12,
   "metadata": {},
   "outputs": [],
   "source": [
    "# Câu 3\n",
    "def getup():\n",
    "    p = np.random.uniform(0,1)\n",
    "    if(p < 0.5):\n",
    "        return 0\n",
    "    elif(p < 0.9):\n",
    "        return 1\n",
    "    else:\n",
    "        return 2\n",
    "\n",
    "def getoff():\n",
    "    p = np.random.uniform(0,1)\n",
    "    if(p < 0.2):\n",
    "        return 0\n",
    "    else:\n",
    "        return 1"
   ]
  },
  {
   "cell_type": "code",
   "execution_count": 19,
   "metadata": {},
   "outputs": [
    {
     "data": {
      "text/plain": [
       "0.25193"
      ]
     },
     "execution_count": 19,
     "metadata": {},
     "output_type": "execute_result"
    }
   ],
   "source": [
    "# Cau 3a\n",
    "def simulate_3a(N):\n",
    "    f_ans = []\n",
    "    for i in range(N):\n",
    "        guest_getup = 0\n",
    "        for j in range(2):\n",
    "            guest_getup += getup()\n",
    "        if(guest_getup == 0):\n",
    "            f_ans.append(1)\n",
    "        else:\n",
    "            f_ans.append(0)\n",
    "    return sum(f_ans)/N\n",
    "\n",
    "simulate_3a(100000)"
   ]
  },
  {
   "cell_type": "code",
   "execution_count": 14,
   "metadata": {},
   "outputs": [
    {
     "data": {
      "text/plain": [
       "0.12484"
      ]
     },
     "execution_count": 14,
     "metadata": {},
     "output_type": "execute_result"
    }
   ],
   "source": [
    "# Cau 3b\n",
    "def simulate_3b(N):\n",
    "    f_ans = []\n",
    "    for i in range(N):\n",
    "        guest_getup = 0\n",
    "        for j in range(3):\n",
    "            guest_getup += getup()\n",
    "        if(guest_getup == 0):\n",
    "            f_ans.append(1)\n",
    "        else:\n",
    "            f_ans.append(0)\n",
    "    return sum(f_ans)/N\n",
    "\n",
    "simulate_3b(100000)"
   ]
  },
  {
   "cell_type": "code",
   "execution_count": 15,
   "metadata": {},
   "outputs": [
    {
     "data": {
      "text/plain": [
       "0.15499"
      ]
     },
     "execution_count": 15,
     "metadata": {},
     "output_type": "execute_result"
    }
   ],
   "source": [
    "# Cau 3c\n",
    "def simulate_3c(N):\n",
    "    f_ans = []\n",
    "    for i in range(N):\n",
    "        guest_getup = 0\n",
    "        for j in range(5):\n",
    "            guest_getup += getup()\n",
    "        if(guest_getup >= 5):\n",
    "            f_ans.append(1)\n",
    "        else:\n",
    "            f_ans.append(0)\n",
    "    return sum(f_ans)/N\n",
    "\n",
    "simulate_3c(100000)"
   ]
  },
  {
   "cell_type": "code",
   "execution_count": 16,
   "metadata": {},
   "outputs": [],
   "source": [
    "# Câu 3d"
   ]
  },
  {
   "cell_type": "code",
   "execution_count": 17,
   "metadata": {},
   "outputs": [
    {
     "data": {
      "text/plain": [
       "0.14613"
      ]
     },
     "execution_count": 17,
     "metadata": {},
     "output_type": "execute_result"
    }
   ],
   "source": [
    "# Câu 3e\n",
    "def simulate_3e(N):\n",
    "    E_ans = []\n",
    "    for i in range(N):\n",
    "        guest_on = 0\n",
    "        for j in range(2):\n",
    "            guest_on += getup()\n",
    "            for k in range(guest_on):\n",
    "                guest_on -= getoff()\n",
    "        E_ans.append(guest_on)\n",
    "    #print(E_ans)\n",
    "    return sum(E_ans)/N\n",
    "\n",
    "simulate_3e(100000)"
   ]
  },
  {
   "cell_type": "code",
   "execution_count": 18,
   "metadata": {},
   "outputs": [
    {
     "data": {
      "text/plain": [
       "0.14906"
      ]
     },
     "execution_count": 18,
     "metadata": {},
     "output_type": "execute_result"
    }
   ],
   "source": [
    "# Câu 3f\n",
    "def simulate_3f(N):\n",
    "    E_ans = []\n",
    "    for i in range(N):\n",
    "        guest_on = 0\n",
    "        for j in range(3):\n",
    "            guest_on += getup()\n",
    "            for k in range(guest_on):\n",
    "                guest_on -= getoff()\n",
    "        E_ans.append(guest_on)\n",
    "    #print(E_ans)\n",
    "    return sum(E_ans)/N\n",
    "\n",
    "simulate_3f(100000)"
   ]
  },
  {
   "cell_type": "code",
   "execution_count": null,
   "metadata": {},
   "outputs": [],
   "source": []
  }
 ],
 "metadata": {
  "kernelspec": {
   "display_name": "Python 3 (ipykernel)",
   "language": "python",
   "name": "python3"
  },
  "language_info": {
   "codemirror_mode": {
    "name": "ipython",
    "version": 3
   },
   "file_extension": ".py",
   "mimetype": "text/x-python",
   "name": "python",
   "nbconvert_exporter": "python",
   "pygments_lexer": "ipython3",
   "version": "3.9.12"
  }
 },
 "nbformat": 4,
 "nbformat_minor": 2
}
